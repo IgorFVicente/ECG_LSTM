{
 "cells": [
  {
   "cell_type": "code",
   "execution_count": 2,
   "id": "2f6e93c3",
   "metadata": {
    "collapsed": true
   },
   "outputs": [],
   "source": [
    "import torch\n",
    "import base64\n",
    "import struct\n",
    "from sklearn.utils import shuffle\n",
    "import matplotlib.pyplot as plt\n",
    "import numpy as np\n",
    "import pandas as pd\n",
    "import os\n",
    "import json\n",
    "import csv\n",
    "import seaborn as sns\n",
    "from torch.autograd import Variable"
   ]
  },
  {
   "cell_type": "markdown",
   "id": "53275fc3",
   "metadata": {},
   "source": [
    "# Funções de preparação e treinamento"
   ]
  },
  {
   "cell_type": "code",
   "execution_count": 3,
   "id": "7394c00a",
   "metadata": {
    "collapsed": true
   },
   "outputs": [],
   "source": [
    "# Retorna a(s) posição(ões) como valor(es) inteiro(s) a partir da array de predição\n",
    "def get_position_from_markers_prediction(prediction):\n",
    "    array = np.array(prediction)\n",
    "    indices = np.where(array == 1)\n",
    "    return list(indices[0])"
   ]
  },
  {
   "cell_type": "code",
   "execution_count": 4,
   "id": "5f5fa9fd",
   "metadata": {
    "collapsed": true
   },
   "outputs": [],
   "source": [
    "# Abre o dataset de um marcador específico e retorna o dataframe, features e rótulos de 10.000 dados\n",
    "def load_dataset(marker):\n",
    "    csv_name = 'only_' + marker + '_label.csv'\n",
    "    df = pd.read_csv(csv_name)\n",
    "    df = df.head(10000)\n",
    "\n",
    "    X = df.iloc[:,0:430]\n",
    "    y = df.iloc[:,-430:]\n",
    "    return df, X, y"
   ]
  },
  {
   "cell_type": "code",
   "execution_count": 5,
   "id": "333f2215",
   "metadata": {
    "collapsed": true
   },
   "outputs": [],
   "source": [
    "# Separa as features e rótulos em conjuntos de treino, validação e teste\n",
    "def get_tensors(X, y):\n",
    "    train_size = math.floor(X.shape[0] * 0.6)\n",
    "    valid_size = math.floor(X.shape[0] * 0.8)\n",
    "    \n",
    "    X_train_set = X[:train_size].to_numpy()\n",
    "    X_valid_set = X[train_size:valid_size].to_numpy()\n",
    "    X_test_set = X[valid_size:].to_numpy()\n",
    "    y_train_set = y[:train_size].to_numpy()\n",
    "    y_valid_set = y[train_size:valid_size].to_numpy()\n",
    "    y_test_set = y[valid_size:].to_numpy()\n",
    "\n",
    "    X_train_tensors = Variable(torch.Tensor(X_train_set))\n",
    "    X_valid_tensors = Variable(torch.Tensor(X_valid_set))\n",
    "    X_test_tensors = Variable(torch.Tensor(X_test_set))\n",
    "\n",
    "    y_train_tensors = Variable(torch.Tensor(y_train_set))\n",
    "    y_valid_tensors = Variable(torch.Tensor(y_valid_set))\n",
    "    y_test_tensors = Variable(torch.Tensor(y_test_set))\n",
    "    \n",
    "    X_train_tensors_final = torch.reshape(X_train_tensors,   (X_train_tensors.shape[0], 1, X_train_tensors.shape[1]))\n",
    "    X_valid_tensors_final = torch.reshape(X_valid_tensors,  (X_valid_tensors.shape[0], 1, X_valid_tensors.shape[1]))\n",
    "    X_test_tensors_final = torch.reshape(X_test_tensors,  (X_test_tensors.shape[0], 1, X_test_tensors.shape[1]))\n",
    "    return X_train_tensors_final.cuda(), y_train_tensors.cuda(), X_valid_tensors_final.cuda(), y_valid_tensors.cuda(), X_test_tensors_final.cuda(), y_test_tensors.cuda()"
   ]
  },
  {
   "cell_type": "code",
   "execution_count": 6,
   "id": "535ec7fb",
   "metadata": {
    "collapsed": true
   },
   "outputs": [],
   "source": [
    "# Arquitetura do modelo de aprendizado profundo\n",
    "class LSTM1(nn.Module):\n",
    "    def __init__(self, num_classes, input_size, hidden_size, num_layers, seq_length):\n",
    "        super(LSTM1, self).__init__()\n",
    "        self.num_classes = num_classes\n",
    "        self.num_layers = num_layers\n",
    "        self.input_size = input_size\n",
    "        self.hidden_size = hidden_size\n",
    "        self.seq_length = seq_length\n",
    "\n",
    "        self.lstm = nn.LSTM(input_size=input_size, hidden_size=hidden_size,\n",
    "                          num_layers=num_layers, batch_first=True, dropout=0, bidirectional=True, device=device)\n",
    "        self.fc_1 =  nn.Linear(hidden_size, 256, device=device)\n",
    "        self.fc = nn.Linear(256, num_classes, device=device)\n",
    "\n",
    "        self.relu = nn.ReLU()\n",
    "    \n",
    "    def forward(self,x):\n",
    "        h_0 = Variable(torch.zeros(self.num_layers * 2, x.size(0), self.hidden_size))\n",
    "        h_0 = h_0.cuda()\n",
    "        c_0 = Variable(torch.zeros(self.num_layers * 2, x.size(0), self.hidden_size))\n",
    "        c_0 = c_0.cuda()\n",
    "        output, (hn, cn) = self.lstm(x, (h_0, c_0))\n",
    "        hn = hn[self.num_layers - 1]\n",
    "        hn = hn.view(-1, self.hidden_size)\n",
    "        out = self.relu(hn)\n",
    "        out = self.fc_1(out)\n",
    "        out = self.relu(out)\n",
    "        out = self.fc(out)\n",
    "        return out"
   ]
  },
  {
   "cell_type": "code",
   "execution_count": 7,
   "id": "033f356b",
   "metadata": {
    "collapsed": true
   },
   "outputs": [],
   "source": [
    "# Função de treinamento do modelo\n",
    "def train_lstm(\n",
    "    X_train_tensors, \n",
    "    y_train_tensors,\n",
    "    X_valid,\n",
    "    y_valid,\n",
    "    marker,\n",
    "    num_epochs = 1000,\n",
    "    learning_rate = 0.01,\n",
    "    input_size = 430,\n",
    "    hidden_size = 100,\n",
    "    num_layers = 1, \n",
    "    num_classes = 430\n",
    "):\n",
    "\n",
    "    best_lstm1 = None\n",
    "    lstm1 = LSTM1(num_classes, input_size, hidden_size, num_layers, X_train_tensors.shape[1]) #our lstm class \n",
    "    criterion = torch.nn.CrossEntropyLoss()\n",
    "    #criterion = torch.nn.BCEWithLogitsLoss() \n",
    "    optimizer = torch.optim.Adam(lstm1.parameters(), lr=learning_rate)\n",
    "    best_acc_3 = 0\n",
    "    for epoch in range(1, num_epochs + 1):\n",
    "        outputs = lstm1.forward(X_train_tensors)\n",
    "        optimizer.zero_grad()\n",
    "\n",
    "        loss = criterion(outputs, y_train_tensors)\n",
    "\n",
    "        loss.backward()\n",
    "\n",
    "        optimizer.step() \n",
    "       \n",
    "        correct, correct_per_one, correct_per_two, correct_per_three, totally_wrong, total = 0, 0, 0, 0, 0, 0\n",
    "        for i in range(0, X_valid.size(0)):\n",
    "            x_val, y_val = torch.unsqueeze(X_valid[i], 0), y_valid[i]\n",
    "            out = lstm1(x_val)\n",
    "            preds = torch.topk(out.flatten(), 1).indices.item()\n",
    "            total += 1\n",
    "            correct_value = torch.topk(y_val.flatten(), 1).indices.item()\n",
    "            \n",
    "            # medidores de acurácia por diferentes margens\n",
    "            correct += (preds == correct_value)\n",
    "            correct_per_one += (correct_value <= preds +1 and correct_value >= preds -1)\n",
    "            correct_per_two += (correct_value <= preds +2 and correct_value >= preds -2)\n",
    "            correct_per_three += (correct_value <= preds +3 and correct_value >= preds -3)\n",
    "            totally_wrong += (correct_value >= preds +10 or correct_value <= -10)\n",
    "            \n",
    "            acc = correct / total\n",
    "            acc_1 = correct_per_one / total\n",
    "            acc_2 = correct_per_two / total\n",
    "            acc_3 = correct_per_three / total\n",
    "            wrong = totally_wrong/total\n",
    "\n",
    "            \n",
    "        # Caso encontre a melhora acurácia, salva o estado do modelo\n",
    "        if acc_3 > best_acc_3:\n",
    "            best_acc_3 = acc_3\n",
    "            torch.save(lstm1.state_dict(), 'models/best_' + marker)\n",
    "            best_lstm1 = lstm1\n",
    "            best_wrong = wrong\n",
    "        if (epoch % 5 == 0):\n",
    "            print(\"Marker: %s, Epoch: %d, loss: %1.5f, Acc: %f, Acc1: %f, Acc2: %f, Acc3: %f, Wrong: %f\" % (marker, epoch, loss.item(), round(acc * 100, 2), round(acc_1 * 100, 2), round(acc_2 * 100, 2), round(acc_3 * 100, 2), round(wrong * 100, 2)))\n",
    "    print(\"Marker %s best Accuracy by 3 margin: %.2f, best wrong: %.2f\" % (marker, best_acc_3 * 100, best_wrong * 100))\n",
    "    return best_lstm1"
   ]
  },
  {
   "cell_type": "markdown",
   "id": "fc071f84",
   "metadata": {},
   "source": [
    "# Treino dos modelos"
   ]
  },
  {
   "cell_type": "code",
   "execution_count": 9,
   "id": "b470004e",
   "metadata": {
    "collapsed": true
   },
   "outputs": [
    {
     "name": "stdout",
     "output_type": "stream",
     "text": [
      "Marker: P_INI, Epoch: 5, loss: 4.45992, Acc: 3.550000, Acc1: 10.050000, Acc2: 16.900000, Acc3: 24.150000, Wrong: 12.850000\n",
      "Marker: P_INI, Epoch: 10, loss: 3.99309, Acc: 4.150000, Acc1: 13.300000, Acc2: 20.400000, Acc3: 28.100000, Wrong: 14.150000\n",
      "Marker: P_INI, Epoch: 15, loss: 3.57922, Acc: 5.450000, Acc1: 16.950000, Acc2: 28.950000, Acc3: 38.350000, Wrong: 6.650000\n",
      "Marker: P_INI, Epoch: 20, loss: 2.97753, Acc: 10.700000, Acc1: 30.200000, Acc2: 48.700000, Acc3: 61.550000, Wrong: 3.650000\n",
      "Marker: P_INI, Epoch: 25, loss: 2.63464, Acc: 14.500000, Acc1: 40.150000, Acc2: 60.850000, Acc3: 74.250000, Wrong: 2.700000\n",
      "Marker: P_INI, Epoch: 30, loss: 2.45614, Acc: 16.900000, Acc1: 45.950000, Acc2: 66.050000, Acc3: 77.450000, Wrong: 2.050000\n",
      "Marker: P_INI, Epoch: 35, loss: 2.32899, Acc: 17.450000, Acc1: 48.300000, Acc2: 68.300000, Acc3: 78.900000, Wrong: 1.550000\n",
      "Marker: P_INI, Epoch: 40, loss: 2.21220, Acc: 19.700000, Acc1: 50.600000, Acc2: 70.150000, Acc3: 80.100000, Wrong: 1.400000\n",
      "Marker: P_INI, Epoch: 45, loss: 2.10788, Acc: 20.200000, Acc1: 51.950000, Acc2: 71.050000, Acc3: 81.600000, Wrong: 1.500000\n",
      "Marker: P_INI, Epoch: 50, loss: 2.00820, Acc: 20.150000, Acc1: 52.400000, Acc2: 71.950000, Acc3: 82.450000, Wrong: 1.600000\n",
      "Marker: P_INI, Epoch: 55, loss: 1.91702, Acc: 18.900000, Acc1: 50.150000, Acc2: 70.600000, Acc3: 80.850000, Wrong: 1.500000\n",
      "Marker: P_INI, Epoch: 60, loss: 1.87854, Acc: 20.200000, Acc1: 53.100000, Acc2: 71.850000, Acc3: 82.950000, Wrong: 1.650000\n",
      "Marker: P_INI, Epoch: 65, loss: 1.74982, Acc: 21.000000, Acc1: 53.800000, Acc2: 72.900000, Acc3: 83.200000, Wrong: 1.600000\n",
      "Marker: P_INI, Epoch: 70, loss: 1.64508, Acc: 21.100000, Acc1: 53.700000, Acc2: 72.450000, Acc3: 82.750000, Wrong: 1.550000\n",
      "Marker: P_INI, Epoch: 75, loss: 1.56521, Acc: 19.750000, Acc1: 52.650000, Acc2: 71.850000, Acc3: 82.650000, Wrong: 1.400000\n",
      "Marker: P_INI, Epoch: 80, loss: 1.45167, Acc: 20.500000, Acc1: 53.700000, Acc2: 72.700000, Acc3: 83.000000, Wrong: 1.350000\n",
      "Marker: P_INI, Epoch: 85, loss: 1.32842, Acc: 19.050000, Acc1: 52.900000, Acc2: 72.150000, Acc3: 83.750000, Wrong: 1.400000\n",
      "Marker: P_INI, Epoch: 90, loss: 1.20493, Acc: 19.800000, Acc1: 53.550000, Acc2: 73.150000, Acc3: 83.150000, Wrong: 1.500000\n",
      "Marker: P_INI, Epoch: 95, loss: 1.12112, Acc: 19.950000, Acc1: 53.050000, Acc2: 72.800000, Acc3: 83.250000, Wrong: 1.450000\n",
      "Marker: P_INI, Epoch: 100, loss: 1.01767, Acc: 18.950000, Acc1: 52.550000, Acc2: 72.700000, Acc3: 83.100000, Wrong: 1.500000\n",
      "Marker P_INI best Accuracy by 3 margin: 83.75, best wrong: 1.40\n"
     ]
    }
   ],
   "source": [
    "marker = 'P_INI'\n",
    "df, X, y = load_dataset(marker)\n",
    "X_train, y_train, X_val, y_val, X_test, y_test = get_tensors(X, y)\n",
    "lstm = train_lstm(X_train, y_train, X_val, y_val, marker=marker, num_layers=3, hidden_size=400,num_epochs=100)"
   ]
  },
  {
   "cell_type": "code",
   "execution_count": 10,
   "id": "330b9707",
   "metadata": {
    "collapsed": true
   },
   "outputs": [
    {
     "name": "stdout",
     "output_type": "stream",
     "text": [
      "Marker: P, Epoch: 5, loss: 4.53606, Acc: 4.300000, Acc1: 12.350000, Acc2: 20.500000, Acc3: 27.750000, Wrong: 12.100000\n",
      "Marker: P, Epoch: 10, loss: 3.96845, Acc: 5.500000, Acc1: 14.350000, Acc2: 22.350000, Acc3: 32.700000, Wrong: 9.900000\n",
      "Marker: P, Epoch: 15, loss: 3.48644, Acc: 6.850000, Acc1: 20.200000, Acc2: 33.600000, Acc3: 45.250000, Wrong: 5.900000\n",
      "Marker: P, Epoch: 20, loss: 2.84103, Acc: 17.450000, Acc1: 47.600000, Acc2: 66.250000, Acc3: 77.200000, Wrong: 2.700000\n",
      "Marker: P, Epoch: 25, loss: 2.31855, Acc: 27.400000, Acc1: 66.600000, Acc2: 82.050000, Acc3: 89.150000, Wrong: 2.400000\n",
      "Marker: P, Epoch: 30, loss: 2.02611, Acc: 32.450000, Acc1: 73.950000, Acc2: 86.400000, Acc3: 91.100000, Wrong: 2.200000\n",
      "Marker: P, Epoch: 35, loss: 1.80218, Acc: 38.050000, Acc1: 80.550000, Acc2: 89.550000, Acc3: 92.450000, Wrong: 2.250000\n",
      "Marker: P, Epoch: 40, loss: 1.60493, Acc: 43.050000, Acc1: 80.950000, Acc2: 90.250000, Acc3: 92.650000, Wrong: 2.350000\n",
      "Marker: P, Epoch: 45, loss: 1.43441, Acc: 44.700000, Acc1: 84.000000, Acc2: 91.800000, Acc3: 93.700000, Wrong: 2.100000\n",
      "Marker: P, Epoch: 50, loss: 1.27254, Acc: 47.200000, Acc1: 86.050000, Acc2: 92.400000, Acc3: 94.050000, Wrong: 1.850000\n",
      "Marker: P, Epoch: 55, loss: 1.12788, Acc: 46.250000, Acc1: 86.150000, Acc2: 92.250000, Acc3: 94.000000, Wrong: 1.800000\n",
      "Marker: P, Epoch: 60, loss: 1.18449, Acc: 46.800000, Acc1: 86.150000, Acc2: 92.450000, Acc3: 93.950000, Wrong: 1.750000\n",
      "Marker: P, Epoch: 65, loss: 0.96974, Acc: 47.250000, Acc1: 85.800000, Acc2: 92.400000, Acc3: 94.200000, Wrong: 1.700000\n",
      "Marker: P, Epoch: 70, loss: 0.87906, Acc: 50.050000, Acc1: 87.250000, Acc2: 92.900000, Acc3: 94.150000, Wrong: 1.750000\n",
      "Marker: P, Epoch: 75, loss: 0.74523, Acc: 51.200000, Acc1: 87.900000, Acc2: 92.850000, Acc3: 93.900000, Wrong: 1.850000\n",
      "Marker: P, Epoch: 80, loss: 0.66409, Acc: 51.700000, Acc1: 87.400000, Acc2: 92.750000, Acc3: 93.900000, Wrong: 1.800000\n",
      "Marker: P, Epoch: 85, loss: 0.56849, Acc: 52.550000, Acc1: 87.450000, Acc2: 92.500000, Acc3: 93.750000, Wrong: 1.900000\n",
      "Marker: P, Epoch: 90, loss: 0.54830, Acc: 50.550000, Acc1: 87.600000, Acc2: 92.400000, Acc3: 93.650000, Wrong: 1.900000\n",
      "Marker: P, Epoch: 95, loss: 0.43268, Acc: 52.550000, Acc1: 87.600000, Acc2: 92.500000, Acc3: 93.950000, Wrong: 1.850000\n",
      "Marker: P, Epoch: 100, loss: 0.35732, Acc: 53.650000, Acc1: 87.450000, Acc2: 92.400000, Acc3: 93.850000, Wrong: 1.800000\n",
      "Marker P best Accuracy by 3 margin: 94.30, best wrong: 1.85\n"
     ]
    }
   ],
   "source": [
    "marker = 'P'\n",
    "df, X, y = load_dataset(marker)\n",
    "X_train, y_train, X_val, y_val, X_test, y_test = get_tensors(X, y)\n",
    "lstm = train_lstm(X_train, y_train, X_val, y_val, marker=marker, num_layers=3, hidden_size=400,num_epochs=100)"
   ]
  },
  {
   "cell_type": "code",
   "execution_count": 12,
   "id": "d4ff02ed",
   "metadata": {
    "collapsed": true
   },
   "outputs": [
    {
     "name": "stdout",
     "output_type": "stream",
     "text": [
      "Marker: P_END, Epoch: 5, loss: 4.50432, Acc: 4.100000, Acc1: 12.100000, Acc2: 18.600000, Acc3: 25.900000, Wrong: 5.800000\n",
      "Marker: P_END, Epoch: 10, loss: 3.92676, Acc: 4.200000, Acc1: 12.200000, Acc2: 20.900000, Acc3: 29.400000, Wrong: 16.950000\n",
      "Marker: P_END, Epoch: 15, loss: 3.47509, Acc: 6.150000, Acc1: 19.250000, Acc2: 30.750000, Acc3: 42.550000, Wrong: 5.550000\n",
      "Marker: P_END, Epoch: 20, loss: 2.90606, Acc: 11.450000, Acc1: 30.850000, Acc2: 49.400000, Acc3: 63.950000, Wrong: 3.500000\n",
      "Marker: P_END, Epoch: 25, loss: 2.52676, Acc: 15.850000, Acc1: 44.650000, Acc2: 65.750000, Acc3: 79.850000, Wrong: 2.100000\n",
      "Marker: P_END, Epoch: 30, loss: 2.31582, Acc: 18.500000, Acc1: 50.600000, Acc2: 73.550000, Acc3: 85.650000, Wrong: 1.700000\n",
      "Marker: P_END, Epoch: 35, loss: 2.15620, Acc: 21.000000, Acc1: 56.300000, Acc2: 76.800000, Acc3: 87.400000, Wrong: 1.400000\n",
      "Marker: P_END, Epoch: 40, loss: 2.03591, Acc: 22.850000, Acc1: 58.700000, Acc2: 78.700000, Acc3: 88.500000, Wrong: 1.250000\n",
      "Marker: P_END, Epoch: 45, loss: 1.92404, Acc: 24.150000, Acc1: 60.150000, Acc2: 79.200000, Acc3: 89.200000, Wrong: 1.200000\n",
      "Marker: P_END, Epoch: 50, loss: 1.81043, Acc: 25.500000, Acc1: 62.100000, Acc2: 81.000000, Acc3: 90.150000, Wrong: 1.200000\n",
      "Marker: P_END, Epoch: 55, loss: 1.71362, Acc: 25.500000, Acc1: 63.000000, Acc2: 81.300000, Acc3: 90.100000, Wrong: 1.300000\n",
      "Marker: P_END, Epoch: 60, loss: 1.63316, Acc: 26.800000, Acc1: 64.500000, Acc2: 81.700000, Acc3: 91.150000, Wrong: 1.350000\n",
      "Marker: P_END, Epoch: 65, loss: 1.52897, Acc: 26.450000, Acc1: 64.050000, Acc2: 81.650000, Acc3: 90.550000, Wrong: 1.250000\n",
      "Marker: P_END, Epoch: 70, loss: 1.41998, Acc: 25.200000, Acc1: 65.350000, Acc2: 82.600000, Acc3: 91.150000, Wrong: 1.100000\n",
      "Marker: P_END, Epoch: 75, loss: 1.37897, Acc: 25.050000, Acc1: 62.300000, Acc2: 81.700000, Acc3: 90.250000, Wrong: 1.200000\n",
      "Marker: P_END, Epoch: 80, loss: 1.27339, Acc: 26.150000, Acc1: 62.750000, Acc2: 82.000000, Acc3: 90.650000, Wrong: 1.200000\n",
      "Marker: P_END, Epoch: 85, loss: 1.14317, Acc: 25.900000, Acc1: 64.050000, Acc2: 81.100000, Acc3: 90.800000, Wrong: 1.250000\n",
      "Marker: P_END, Epoch: 90, loss: 1.03311, Acc: 26.400000, Acc1: 62.800000, Acc2: 81.400000, Acc3: 89.700000, Wrong: 1.150000\n",
      "Marker: P_END, Epoch: 95, loss: 0.94084, Acc: 25.700000, Acc1: 61.650000, Acc2: 81.400000, Acc3: 90.200000, Wrong: 1.300000\n",
      "Marker: P_END, Epoch: 100, loss: 0.86469, Acc: 23.600000, Acc1: 60.050000, Acc2: 80.100000, Acc3: 89.500000, Wrong: 1.300000\n",
      "Marker P_END best Accuracy by 3 margin: 91.55, best wrong: 1.25\n"
     ]
    }
   ],
   "source": [
    "marker = 'P_END'\n",
    "df, X, y = load_dataset(marker)\n",
    "X_train, y_train, X_val, y_val, X_test, y_test = get_tensors(X, y)\n",
    "lstm = train_lstm(X_train, y_train, X_val, y_val, marker=marker, num_layers=3, hidden_size=400,num_epochs=100)"
   ]
  },
  {
   "cell_type": "code",
   "execution_count": 15,
   "id": "66a770e2",
   "metadata": {
    "collapsed": true
   },
   "outputs": [
    {
     "name": "stdout",
     "output_type": "stream",
     "text": [
      "Marker: QRS_INI, Epoch: 5, loss: 4.10582, Acc: 8.300000, Acc1: 23.850000, Acc2: 36.400000, Acc3: 48.000000, Wrong: 5.000000\n",
      "Marker: QRS_INI, Epoch: 10, loss: 3.12382, Acc: 11.100000, Acc1: 33.150000, Acc2: 51.450000, Acc3: 67.250000, Wrong: 3.600000\n",
      "Marker: QRS_INI, Epoch: 15, loss: 2.55740, Acc: 16.050000, Acc1: 44.400000, Acc2: 65.200000, Acc3: 78.700000, Wrong: 2.550000\n",
      "Marker: QRS_INI, Epoch: 20, loss: 2.39666, Acc: 16.400000, Acc1: 49.300000, Acc2: 71.050000, Acc3: 83.500000, Wrong: 1.900000\n",
      "Marker: QRS_INI, Epoch: 25, loss: 2.25806, Acc: 19.650000, Acc1: 50.650000, Acc2: 73.650000, Acc3: 84.400000, Wrong: 1.750000\n",
      "Marker: QRS_INI, Epoch: 30, loss: 2.14191, Acc: 20.900000, Acc1: 54.500000, Acc2: 76.350000, Acc3: 86.200000, Wrong: 1.450000\n",
      "Marker: QRS_INI, Epoch: 35, loss: 2.01602, Acc: 24.950000, Acc1: 58.350000, Acc2: 77.300000, Acc3: 87.300000, Wrong: 1.450000\n",
      "Marker: QRS_INI, Epoch: 40, loss: 1.88578, Acc: 26.000000, Acc1: 62.550000, Acc2: 79.750000, Acc3: 87.600000, Wrong: 1.350000\n",
      "Marker: QRS_INI, Epoch: 45, loss: 1.75435, Acc: 28.800000, Acc1: 63.700000, Acc2: 80.350000, Acc3: 87.950000, Wrong: 1.250000\n",
      "Marker: QRS_INI, Epoch: 50, loss: 1.61452, Acc: 30.700000, Acc1: 66.250000, Acc2: 81.400000, Acc3: 88.250000, Wrong: 1.050000\n",
      "Marker: QRS_INI, Epoch: 55, loss: 1.50749, Acc: 31.200000, Acc1: 66.250000, Acc2: 81.900000, Acc3: 88.950000, Wrong: 1.050000\n",
      "Marker: QRS_INI, Epoch: 60, loss: 1.37620, Acc: 33.750000, Acc1: 68.700000, Acc2: 82.550000, Acc3: 89.350000, Wrong: 1.050000\n",
      "Marker: QRS_INI, Epoch: 65, loss: 1.26622, Acc: 34.150000, Acc1: 70.250000, Acc2: 83.600000, Acc3: 89.650000, Wrong: 1.100000\n",
      "Marker: QRS_INI, Epoch: 70, loss: 1.16464, Acc: 33.800000, Acc1: 70.300000, Acc2: 83.050000, Acc3: 89.150000, Wrong: 1.150000\n",
      "Marker: QRS_INI, Epoch: 75, loss: 1.06893, Acc: 33.900000, Acc1: 70.850000, Acc2: 82.750000, Acc3: 89.100000, Wrong: 1.050000\n",
      "Marker: QRS_INI, Epoch: 80, loss: 0.97953, Acc: 35.500000, Acc1: 71.100000, Acc2: 82.800000, Acc3: 88.750000, Wrong: 1.100000\n",
      "Marker: QRS_INI, Epoch: 85, loss: 0.86435, Acc: 35.450000, Acc1: 72.550000, Acc2: 83.400000, Acc3: 89.050000, Wrong: 1.200000\n",
      "Marker: QRS_INI, Epoch: 90, loss: 0.76329, Acc: 34.450000, Acc1: 71.100000, Acc2: 83.400000, Acc3: 88.900000, Wrong: 1.000000\n",
      "Marker: QRS_INI, Epoch: 95, loss: 0.68971, Acc: 34.750000, Acc1: 71.950000, Acc2: 83.500000, Acc3: 89.100000, Wrong: 1.100000\n",
      "Marker: QRS_INI, Epoch: 100, loss: 0.59045, Acc: 35.050000, Acc1: 71.500000, Acc2: 82.900000, Acc3: 88.900000, Wrong: 1.100000\n",
      "Marker QRS_INI best Accuracy by 3 margin: 89.65, best wrong: 1.10\n"
     ]
    }
   ],
   "source": [
    "marker = 'QRS_INI'\n",
    "df, X, y = load_dataset(marker)\n",
    "X_train, y_train, X_val, y_val, X_test, y_test = get_tensors(X, y)\n",
    "lstm = train_lstm(X_train, y_train, X_val, y_val, marker=marker, num_layers=3, hidden_size=400,num_epochs=100)"
   ]
  },
  {
   "cell_type": "code",
   "execution_count": 16,
   "id": "897a8f3c",
   "metadata": {
    "collapsed": true
   },
   "outputs": [
    {
     "name": "stdout",
     "output_type": "stream",
     "text": [
      "Marker: R, Epoch: 5, loss: 3.85009, Acc: 9.550000, Acc1: 27.300000, Acc2: 42.850000, Acc3: 58.800000, Wrong: 4.950000\n",
      "Marker: R, Epoch: 10, loss: 2.81791, Acc: 21.150000, Acc1: 58.400000, Acc2: 79.800000, Acc3: 86.950000, Wrong: 3.700000\n",
      "Marker: R, Epoch: 15, loss: 1.96761, Acc: 41.350000, Acc1: 81.800000, Acc2: 89.200000, Acc3: 90.450000, Wrong: 3.900000\n",
      "Marker: R, Epoch: 20, loss: 1.62099, Acc: 54.050000, Acc1: 88.700000, Acc2: 91.700000, Acc3: 92.700000, Wrong: 3.050000\n",
      "Marker: R, Epoch: 25, loss: 1.30320, Acc: 61.850000, Acc1: 89.950000, Acc2: 92.500000, Acc3: 93.200000, Wrong: 2.600000\n",
      "Marker: R, Epoch: 30, loss: 1.06582, Acc: 69.150000, Acc1: 91.350000, Acc2: 92.950000, Acc3: 93.350000, Wrong: 2.350000\n",
      "Marker: R, Epoch: 35, loss: 0.85520, Acc: 74.400000, Acc1: 92.000000, Acc2: 93.700000, Acc3: 94.050000, Wrong: 2.000000\n",
      "Marker: R, Epoch: 40, loss: 0.67713, Acc: 77.600000, Acc1: 92.600000, Acc2: 94.300000, Acc3: 94.700000, Wrong: 1.250000\n",
      "Marker: R, Epoch: 45, loss: 0.54343, Acc: 78.550000, Acc1: 93.300000, Acc2: 94.750000, Acc3: 95.150000, Wrong: 1.000000\n",
      "Marker: R, Epoch: 50, loss: 0.41547, Acc: 79.200000, Acc1: 93.050000, Acc2: 94.650000, Acc3: 95.300000, Wrong: 1.250000\n",
      "Marker: R, Epoch: 55, loss: 0.32846, Acc: 79.950000, Acc1: 93.150000, Acc2: 94.950000, Acc3: 95.350000, Wrong: 1.350000\n",
      "Marker: R, Epoch: 60, loss: 0.24470, Acc: 80.500000, Acc1: 93.700000, Acc2: 94.850000, Acc3: 95.400000, Wrong: 1.150000\n",
      "Marker: R, Epoch: 65, loss: 0.17998, Acc: 81.300000, Acc1: 93.900000, Acc2: 94.950000, Acc3: 95.450000, Wrong: 1.150000\n",
      "Marker: R, Epoch: 70, loss: 0.16068, Acc: 80.150000, Acc1: 93.900000, Acc2: 94.950000, Acc3: 95.550000, Wrong: 1.050000\n",
      "Marker: R, Epoch: 75, loss: 0.10177, Acc: 80.350000, Acc1: 93.700000, Acc2: 94.750000, Acc3: 95.350000, Wrong: 1.100000\n",
      "Marker: R, Epoch: 80, loss: 0.07133, Acc: 81.450000, Acc1: 93.850000, Acc2: 94.950000, Acc3: 95.500000, Wrong: 1.050000\n",
      "Marker: R, Epoch: 85, loss: 0.05259, Acc: 81.200000, Acc1: 93.800000, Acc2: 94.950000, Acc3: 95.550000, Wrong: 1.050000\n",
      "Marker: R, Epoch: 90, loss: 0.03682, Acc: 80.950000, Acc1: 93.700000, Acc2: 94.900000, Acc3: 95.500000, Wrong: 1.000000\n",
      "Marker: R, Epoch: 95, loss: 0.02721, Acc: 81.100000, Acc1: 93.900000, Acc2: 94.950000, Acc3: 95.450000, Wrong: 0.950000\n",
      "Marker: R, Epoch: 100, loss: 0.02006, Acc: 81.250000, Acc1: 94.000000, Acc2: 95.000000, Acc3: 95.500000, Wrong: 0.850000\n",
      "Marker R best Accuracy by 3 margin: 95.65, best wrong: 1.00\n"
     ]
    }
   ],
   "source": [
    "marker = 'R'\n",
    "df, X, y = load_dataset(marker)\n",
    "X_train, y_train, X_val, y_val, X_test, y_test = get_tensors(X, y)\n",
    "lstm = train_lstm(X_train, y_train, X_val, y_val, marker=marker, num_layers=3, hidden_size=400,num_epochs=100)"
   ]
  },
  {
   "cell_type": "code",
   "execution_count": 17,
   "id": "31d75855",
   "metadata": {
    "collapsed": true
   },
   "outputs": [
    {
     "name": "stdout",
     "output_type": "stream",
     "text": [
      "Marker: S, Epoch: 5, loss: 4.20057, Acc: 4.200000, Acc1: 13.600000, Acc2: 22.250000, Acc3: 31.650000, Wrong: 16.300000\n",
      "Marker: S, Epoch: 10, loss: 3.30046, Acc: 11.950000, Acc1: 32.900000, Acc2: 51.250000, Acc3: 65.150000, Wrong: 5.000000\n",
      "Marker: S, Epoch: 15, loss: 2.76275, Acc: 16.700000, Acc1: 45.050000, Acc2: 64.850000, Acc3: 76.900000, Wrong: 5.050000\n",
      "Marker: S, Epoch: 20, loss: 2.53774, Acc: 21.800000, Acc1: 56.400000, Acc2: 74.500000, Acc3: 81.350000, Wrong: 5.050000\n",
      "Marker: S, Epoch: 25, loss: 2.29893, Acc: 25.300000, Acc1: 62.250000, Acc2: 77.450000, Acc3: 83.100000, Wrong: 5.100000\n",
      "Marker: S, Epoch: 30, loss: 2.07314, Acc: 30.300000, Acc1: 67.700000, Acc2: 79.800000, Acc3: 85.250000, Wrong: 4.650000\n",
      "Marker: S, Epoch: 35, loss: 1.86524, Acc: 34.300000, Acc1: 71.000000, Acc2: 82.500000, Acc3: 86.750000, Wrong: 4.000000\n",
      "Marker: S, Epoch: 40, loss: 1.67200, Acc: 39.000000, Acc1: 73.250000, Acc2: 83.450000, Acc3: 87.350000, Wrong: 3.350000\n",
      "Marker: S, Epoch: 45, loss: 1.55424, Acc: 41.800000, Acc1: 75.000000, Acc2: 84.250000, Acc3: 88.100000, Wrong: 3.300000\n",
      "Marker: S, Epoch: 50, loss: 1.39788, Acc: 43.600000, Acc1: 76.150000, Acc2: 85.200000, Acc3: 88.650000, Wrong: 3.250000\n",
      "Marker: S, Epoch: 55, loss: 1.26884, Acc: 44.650000, Acc1: 76.000000, Acc2: 85.000000, Acc3: 88.550000, Wrong: 3.100000\n",
      "Marker: S, Epoch: 60, loss: 1.12401, Acc: 44.250000, Acc1: 77.150000, Acc2: 84.850000, Acc3: 88.650000, Wrong: 3.000000\n",
      "Marker: S, Epoch: 65, loss: 1.00062, Acc: 45.550000, Acc1: 77.400000, Acc2: 85.250000, Acc3: 88.850000, Wrong: 3.000000\n",
      "Marker: S, Epoch: 70, loss: 0.91235, Acc: 45.350000, Acc1: 77.500000, Acc2: 85.150000, Acc3: 88.700000, Wrong: 2.950000\n",
      "Marker: S, Epoch: 75, loss: 0.80300, Acc: 45.850000, Acc1: 76.800000, Acc2: 85.100000, Acc3: 88.350000, Wrong: 2.850000\n",
      "Marker: S, Epoch: 80, loss: 0.70692, Acc: 45.500000, Acc1: 77.000000, Acc2: 84.650000, Acc3: 88.000000, Wrong: 3.150000\n",
      "Marker: S, Epoch: 85, loss: 0.63435, Acc: 45.650000, Acc1: 76.300000, Acc2: 84.650000, Acc3: 87.950000, Wrong: 2.900000\n",
      "Marker: S, Epoch: 90, loss: 0.55111, Acc: 46.300000, Acc1: 77.000000, Acc2: 84.800000, Acc3: 88.050000, Wrong: 2.900000\n",
      "Marker: S, Epoch: 95, loss: 0.46868, Acc: 45.350000, Acc1: 76.650000, Acc2: 84.150000, Acc3: 87.450000, Wrong: 2.750000\n",
      "Marker: S, Epoch: 100, loss: 0.45306, Acc: 45.700000, Acc1: 76.400000, Acc2: 84.300000, Acc3: 87.600000, Wrong: 2.800000\n",
      "Marker S best Accuracy by 3 margin: 88.90, best wrong: 3.05\n"
     ]
    }
   ],
   "source": [
    "marker = 'S'\n",
    "df, X, y = load_dataset(marker)\n",
    "X_train, y_train, X_val, y_val, X_test, y_test = get_tensors(X, y)\n",
    "lstm = train_lstm(X_train, y_train, X_val, y_val, marker=marker, num_layers=3, hidden_size=400,num_epochs=100)"
   ]
  },
  {
   "cell_type": "code",
   "execution_count": 18,
   "id": "98c4e5f2",
   "metadata": {
    "collapsed": true
   },
   "outputs": [
    {
     "name": "stdout",
     "output_type": "stream",
     "text": [
      "Marker: QRS_END, Epoch: 5, loss: 4.17847, Acc: 5.050000, Acc1: 16.150000, Acc2: 26.450000, Acc3: 36.700000, Wrong: 9.300000\n",
      "Marker: QRS_END, Epoch: 10, loss: 3.26787, Acc: 9.850000, Acc1: 29.950000, Acc2: 46.400000, Acc3: 59.350000, Wrong: 5.900000\n",
      "Marker: QRS_END, Epoch: 15, loss: 2.85782, Acc: 11.200000, Acc1: 35.550000, Acc2: 54.450000, Acc3: 68.000000, Wrong: 4.500000\n",
      "Marker: QRS_END, Epoch: 20, loss: 2.67661, Acc: 13.900000, Acc1: 39.650000, Acc2: 58.650000, Acc3: 72.300000, Wrong: 4.050000\n",
      "Marker: QRS_END, Epoch: 25, loss: 2.54283, Acc: 15.100000, Acc1: 40.950000, Acc2: 61.400000, Acc3: 73.150000, Wrong: 3.850000\n",
      "Marker: QRS_END, Epoch: 30, loss: 2.42387, Acc: 16.050000, Acc1: 45.700000, Acc2: 63.600000, Acc3: 76.300000, Wrong: 3.850000\n",
      "Marker: QRS_END, Epoch: 35, loss: 2.29962, Acc: 18.250000, Acc1: 48.950000, Acc2: 66.300000, Acc3: 78.450000, Wrong: 3.200000\n",
      "Marker: QRS_END, Epoch: 40, loss: 2.16546, Acc: 21.700000, Acc1: 51.600000, Acc2: 69.100000, Acc3: 79.850000, Wrong: 3.150000\n",
      "Marker: QRS_END, Epoch: 45, loss: 2.08052, Acc: 21.350000, Acc1: 52.250000, Acc2: 71.150000, Acc3: 81.900000, Wrong: 2.700000\n",
      "Marker: QRS_END, Epoch: 50, loss: 1.93800, Acc: 21.550000, Acc1: 54.400000, Acc2: 71.250000, Acc3: 81.150000, Wrong: 3.200000\n",
      "Marker: QRS_END, Epoch: 55, loss: 1.82616, Acc: 22.600000, Acc1: 55.450000, Acc2: 72.700000, Acc3: 81.850000, Wrong: 3.050000\n",
      "Marker: QRS_END, Epoch: 60, loss: 1.70428, Acc: 23.300000, Acc1: 55.800000, Acc2: 72.600000, Acc3: 82.050000, Wrong: 3.000000\n",
      "Marker: QRS_END, Epoch: 65, loss: 1.58270, Acc: 23.300000, Acc1: 55.450000, Acc2: 72.450000, Acc3: 81.200000, Wrong: 3.000000\n",
      "Marker: QRS_END, Epoch: 70, loss: 1.50565, Acc: 23.450000, Acc1: 57.000000, Acc2: 72.850000, Acc3: 81.950000, Wrong: 3.200000\n",
      "Marker: QRS_END, Epoch: 75, loss: 1.35635, Acc: 22.950000, Acc1: 56.200000, Acc2: 72.950000, Acc3: 81.800000, Wrong: 3.000000\n",
      "Marker: QRS_END, Epoch: 80, loss: 1.23416, Acc: 24.000000, Acc1: 56.900000, Acc2: 73.100000, Acc3: 82.300000, Wrong: 2.900000\n",
      "Marker: QRS_END, Epoch: 85, loss: 1.14294, Acc: 24.550000, Acc1: 57.400000, Acc2: 73.000000, Acc3: 81.400000, Wrong: 2.850000\n",
      "Marker: QRS_END, Epoch: 90, loss: 1.11574, Acc: 22.200000, Acc1: 56.650000, Acc2: 72.450000, Acc3: 80.900000, Wrong: 2.900000\n",
      "Marker: QRS_END, Epoch: 95, loss: 1.00787, Acc: 22.750000, Acc1: 54.900000, Acc2: 71.450000, Acc3: 79.800000, Wrong: 2.850000\n",
      "Marker: QRS_END, Epoch: 100, loss: 0.83623, Acc: 24.150000, Acc1: 55.950000, Acc2: 71.700000, Acc3: 80.300000, Wrong: 2.800000\n",
      "Marker QRS_END best Accuracy by 3 margin: 82.50, best wrong: 2.90\n"
     ]
    }
   ],
   "source": [
    "marker = 'QRS_END'\n",
    "df, X, y = load_dataset(marker)\n",
    "X_train, y_train, X_val, y_val, X_test, y_test = get_tensors(X, y)\n",
    "lstm = train_lstm(X_train, y_train, X_val, y_val, marker=marker, num_layers=3, hidden_size=400,num_epochs=100)"
   ]
  },
  {
   "cell_type": "code",
   "execution_count": 19,
   "id": "01af7c4b",
   "metadata": {
    "collapsed": true
   },
   "outputs": [
    {
     "name": "stdout",
     "output_type": "stream",
     "text": [
      "Marker: T_INI, Epoch: 5, loss: 4.70854, Acc: 3.150000, Acc1: 9.100000, Acc2: 14.400000, Acc3: 19.750000, Wrong: 16.550000\n",
      "Marker: T_INI, Epoch: 10, loss: 4.28053, Acc: 3.800000, Acc1: 9.650000, Acc2: 15.450000, Acc3: 21.500000, Wrong: 42.100000\n",
      "Marker: T_INI, Epoch: 15, loss: 3.98820, Acc: 3.650000, Acc1: 10.200000, Acc2: 16.100000, Acc3: 22.350000, Wrong: 23.500000\n",
      "Marker: T_INI, Epoch: 20, loss: 3.88578, Acc: 4.150000, Acc1: 11.050000, Acc2: 17.050000, Acc3: 23.300000, Wrong: 18.700000\n",
      "Marker: T_INI, Epoch: 25, loss: 3.77701, Acc: 3.500000, Acc1: 11.550000, Acc2: 18.000000, Acc3: 25.450000, Wrong: 25.650000\n",
      "Marker: T_INI, Epoch: 30, loss: 3.66769, Acc: 3.900000, Acc1: 12.900000, Acc2: 20.050000, Acc3: 27.650000, Wrong: 20.100000\n",
      "Marker: T_INI, Epoch: 35, loss: 3.55499, Acc: 4.200000, Acc1: 12.800000, Acc2: 21.300000, Acc3: 29.550000, Wrong: 17.600000\n",
      "Marker: T_INI, Epoch: 40, loss: 3.44698, Acc: 4.700000, Acc1: 14.950000, Acc2: 23.300000, Acc3: 31.650000, Wrong: 17.400000\n",
      "Marker: T_INI, Epoch: 45, loss: 3.32146, Acc: 4.250000, Acc1: 14.200000, Acc2: 23.050000, Acc3: 31.700000, Wrong: 17.800000\n",
      "Marker: T_INI, Epoch: 50, loss: 3.19421, Acc: 4.600000, Acc1: 14.500000, Acc2: 24.200000, Acc3: 32.200000, Wrong: 15.850000\n",
      "Marker: T_INI, Epoch: 55, loss: 3.06184, Acc: 4.400000, Acc1: 14.400000, Acc2: 24.450000, Acc3: 32.800000, Wrong: 14.600000\n",
      "Marker: T_INI, Epoch: 60, loss: 2.91957, Acc: 5.150000, Acc1: 14.750000, Acc2: 24.950000, Acc3: 33.550000, Wrong: 14.600000\n",
      "Marker: T_INI, Epoch: 65, loss: 2.76755, Acc: 5.350000, Acc1: 14.900000, Acc2: 24.450000, Acc3: 33.400000, Wrong: 11.600000\n",
      "Marker: T_INI, Epoch: 70, loss: 2.63473, Acc: 5.000000, Acc1: 14.150000, Acc2: 24.050000, Acc3: 33.050000, Wrong: 11.900000\n",
      "Marker: T_INI, Epoch: 75, loss: 2.44687, Acc: 4.500000, Acc1: 13.700000, Acc2: 23.350000, Acc3: 31.750000, Wrong: 15.550000\n",
      "Marker: T_INI, Epoch: 80, loss: 2.27789, Acc: 4.650000, Acc1: 14.000000, Acc2: 24.350000, Acc3: 32.800000, Wrong: 16.100000\n",
      "Marker: T_INI, Epoch: 85, loss: 2.20040, Acc: 4.900000, Acc1: 14.200000, Acc2: 23.400000, Acc3: 32.750000, Wrong: 13.400000\n",
      "Marker: T_INI, Epoch: 90, loss: 1.94345, Acc: 4.700000, Acc1: 13.950000, Acc2: 24.000000, Acc3: 32.800000, Wrong: 18.850000\n",
      "Marker: T_INI, Epoch: 95, loss: 1.73385, Acc: 5.200000, Acc1: 14.750000, Acc2: 25.600000, Acc3: 33.800000, Wrong: 15.450000\n",
      "Marker: T_INI, Epoch: 100, loss: 1.55000, Acc: 4.500000, Acc1: 14.450000, Acc2: 24.500000, Acc3: 32.500000, Wrong: 16.600000\n",
      "Marker T_INI best Accuracy by 3 margin: 34.15, best wrong: 15.80\n"
     ]
    }
   ],
   "source": [
    "marker = 'T_INI'\n",
    "df, X, y = load_dataset(marker)\n",
    "X_train, y_train, X_val, y_val, X_test, y_test = get_tensors(X, y)\n",
    "lstm = train_lstm(X_train, y_train, X_val, y_val, marker=marker, num_layers=3, hidden_size=400,num_epochs=100)"
   ]
  },
  {
   "cell_type": "code",
   "execution_count": 20,
   "id": "451e5bb6",
   "metadata": {
    "collapsed": true
   },
   "outputs": [
    {
     "name": "stdout",
     "output_type": "stream",
     "text": [
      "Marker: T, Epoch: 5, loss: 4.71438, Acc: 2.750000, Acc1: 8.850000, Acc2: 15.050000, Acc3: 22.200000, Wrong: 12.750000\n",
      "Marker: T, Epoch: 10, loss: 4.20001, Acc: 4.300000, Acc1: 10.850000, Acc2: 17.950000, Acc3: 23.900000, Wrong: 15.800000\n",
      "Marker: T, Epoch: 15, loss: 3.93395, Acc: 3.350000, Acc1: 11.800000, Acc2: 20.100000, Acc3: 28.300000, Wrong: 17.550000\n",
      "Marker: T, Epoch: 20, loss: 3.82581, Acc: 4.250000, Acc1: 13.850000, Acc2: 22.400000, Acc3: 29.500000, Wrong: 19.000000\n",
      "Marker: T, Epoch: 25, loss: 3.62083, Acc: 7.100000, Acc1: 17.550000, Acc2: 27.450000, Acc3: 38.050000, Wrong: 11.850000\n",
      "Marker: T, Epoch: 30, loss: 3.37244, Acc: 8.700000, Acc1: 24.200000, Acc2: 38.450000, Acc3: 48.000000, Wrong: 7.250000\n",
      "Marker: T, Epoch: 35, loss: 3.17882, Acc: 10.050000, Acc1: 28.500000, Acc2: 41.950000, Acc3: 54.300000, Wrong: 9.550000\n",
      "Marker: T, Epoch: 40, loss: 2.95705, Acc: 11.650000, Acc1: 33.450000, Acc2: 48.450000, Acc3: 58.550000, Wrong: 6.200000\n",
      "Marker: T, Epoch: 45, loss: 2.75639, Acc: 14.100000, Acc1: 37.200000, Acc2: 52.600000, Acc3: 62.550000, Wrong: 7.150000\n",
      "Marker: T, Epoch: 50, loss: 2.59948, Acc: 15.650000, Acc1: 39.650000, Acc2: 53.500000, Acc3: 62.000000, Wrong: 8.550000\n",
      "Marker: T, Epoch: 55, loss: 2.42620, Acc: 19.150000, Acc1: 43.550000, Acc2: 57.450000, Acc3: 65.750000, Wrong: 7.450000\n",
      "Marker: T, Epoch: 60, loss: 2.23264, Acc: 19.150000, Acc1: 46.650000, Acc2: 60.000000, Acc3: 66.850000, Wrong: 6.900000\n",
      "Marker: T, Epoch: 65, loss: 2.05013, Acc: 20.600000, Acc1: 47.800000, Acc2: 61.450000, Acc3: 67.350000, Wrong: 6.300000\n",
      "Marker: T, Epoch: 70, loss: 1.86994, Acc: 21.050000, Acc1: 47.000000, Acc2: 60.400000, Acc3: 67.200000, Wrong: 9.350000\n",
      "Marker: T, Epoch: 75, loss: 1.70237, Acc: 19.900000, Acc1: 46.550000, Acc2: 60.850000, Acc3: 66.800000, Wrong: 10.050000\n",
      "Marker: T, Epoch: 80, loss: 1.54167, Acc: 20.550000, Acc1: 48.100000, Acc2: 61.100000, Acc3: 67.300000, Wrong: 9.200000\n",
      "Marker: T, Epoch: 85, loss: 1.40539, Acc: 21.100000, Acc1: 49.800000, Acc2: 62.950000, Acc3: 68.000000, Wrong: 8.450000\n",
      "Marker: T, Epoch: 90, loss: 1.21944, Acc: 20.850000, Acc1: 49.750000, Acc2: 63.000000, Acc3: 68.250000, Wrong: 9.100000\n",
      "Marker: T, Epoch: 95, loss: 1.04538, Acc: 22.500000, Acc1: 50.450000, Acc2: 63.350000, Acc3: 68.650000, Wrong: 8.250000\n",
      "Marker: T, Epoch: 100, loss: 0.88172, Acc: 22.650000, Acc1: 49.200000, Acc2: 62.250000, Acc3: 67.650000, Wrong: 9.850000\n",
      "Marker T best Accuracy by 3 margin: 68.65, best wrong: 8.25\n"
     ]
    }
   ],
   "source": [
    "marker = 'T'\n",
    "df, X, y = load_dataset(marker)\n",
    "X_train, y_train, X_val, y_val, X_test, y_test = get_tensors(X, y)\n",
    "lstm = train_lstm(X_train, y_train, X_val, y_val, marker=marker, num_layers=3, hidden_size=400,num_epochs=100)"
   ]
  },
  {
   "cell_type": "code",
   "execution_count": 21,
   "id": "29be2a66",
   "metadata": {
    "collapsed": true
   },
   "outputs": [
    {
     "name": "stdout",
     "output_type": "stream",
     "text": [
      "Marker: T_END, Epoch: 5, loss: 4.51355, Acc: 4.300000, Acc1: 11.400000, Acc2: 18.650000, Acc3: 25.600000, Wrong: 21.550000\n",
      "Marker: T_END, Epoch: 10, loss: 4.12939, Acc: 3.350000, Acc1: 9.100000, Acc2: 15.850000, Acc3: 23.150000, Wrong: 16.000000\n",
      "Marker: T_END, Epoch: 15, loss: 3.83706, Acc: 3.500000, Acc1: 12.950000, Acc2: 20.650000, Acc3: 27.750000, Wrong: 16.900000\n",
      "Marker: T_END, Epoch: 20, loss: 3.71806, Acc: 4.600000, Acc1: 12.450000, Acc2: 20.500000, Acc3: 29.400000, Wrong: 23.050000\n",
      "Marker: T_END, Epoch: 25, loss: 3.54785, Acc: 5.200000, Acc1: 16.050000, Acc2: 26.250000, Acc3: 35.850000, Wrong: 16.150000\n",
      "Marker: T_END, Epoch: 30, loss: 3.38802, Acc: 5.450000, Acc1: 18.650000, Acc2: 31.000000, Acc3: 42.700000, Wrong: 11.900000\n",
      "Marker: T_END, Epoch: 35, loss: 3.21319, Acc: 6.950000, Acc1: 21.500000, Acc2: 34.600000, Acc3: 46.450000, Wrong: 8.650000\n",
      "Marker: T_END, Epoch: 40, loss: 3.05923, Acc: 7.800000, Acc1: 24.250000, Acc2: 39.650000, Acc3: 51.000000, Wrong: 9.400000\n",
      "Marker: T_END, Epoch: 45, loss: 2.92820, Acc: 8.850000, Acc1: 26.800000, Acc2: 42.550000, Acc3: 53.950000, Wrong: 9.050000\n",
      "Marker: T_END, Epoch: 50, loss: 2.78489, Acc: 8.900000, Acc1: 25.900000, Acc2: 41.250000, Acc3: 53.050000, Wrong: 7.300000\n",
      "Marker: T_END, Epoch: 55, loss: 2.64910, Acc: 9.100000, Acc1: 26.000000, Acc2: 42.050000, Acc3: 53.250000, Wrong: 9.250000\n",
      "Marker: T_END, Epoch: 60, loss: 2.52334, Acc: 9.550000, Acc1: 26.250000, Acc2: 42.000000, Acc3: 54.050000, Wrong: 6.650000\n",
      "Marker: T_END, Epoch: 65, loss: 2.36638, Acc: 9.600000, Acc1: 28.450000, Acc2: 43.900000, Acc3: 54.850000, Wrong: 8.850000\n",
      "Marker: T_END, Epoch: 70, loss: 2.24763, Acc: 9.300000, Acc1: 25.950000, Acc2: 41.100000, Acc3: 52.400000, Wrong: 6.200000\n",
      "Marker: T_END, Epoch: 75, loss: 2.10369, Acc: 9.950000, Acc1: 28.200000, Acc2: 43.400000, Acc3: 54.850000, Wrong: 9.950000\n",
      "Marker: T_END, Epoch: 80, loss: 1.93459, Acc: 9.750000, Acc1: 28.150000, Acc2: 42.000000, Acc3: 53.500000, Wrong: 8.600000\n",
      "Marker: T_END, Epoch: 85, loss: 1.75793, Acc: 9.700000, Acc1: 28.600000, Acc2: 42.900000, Acc3: 53.950000, Wrong: 10.150000\n",
      "Marker: T_END, Epoch: 90, loss: 1.57520, Acc: 9.450000, Acc1: 28.300000, Acc2: 41.250000, Acc3: 53.200000, Wrong: 10.050000\n",
      "Marker: T_END, Epoch: 95, loss: 1.42542, Acc: 9.450000, Acc1: 26.200000, Acc2: 39.850000, Acc3: 51.400000, Wrong: 9.400000\n",
      "Marker: T_END, Epoch: 100, loss: 1.24879, Acc: 9.300000, Acc1: 27.000000, Acc2: 40.550000, Acc3: 52.050000, Wrong: 10.850000\n",
      "Marker T_END best Accuracy by 3 margin: 55.10, best wrong: 7.65\n"
     ]
    }
   ],
   "source": [
    "marker = 'T_END'\n",
    "df, X, y = load_dataset(marker)\n",
    "X_train, y_train, X_val, y_val, X_test, y_test = get_tensors(X, y)\n",
    "lstm = train_lstm(X_train, y_train, X_val, y_val, marker=marker, num_layers=3, hidden_size=400,num_epochs=100)"
   ]
  },
  {
   "cell_type": "markdown",
   "id": "0ced4987",
   "metadata": {},
   "source": [
    "# Teste e avaliação dos modelos criados"
   ]
  },
  {
   "cell_type": "code",
   "execution_count": 11,
   "id": "ccc16890",
   "metadata": {
    "collapsed": true
   },
   "outputs": [],
   "source": [
    "markers = ['P_INI', 'P', 'P_END', 'QRS_INI', 'R', 'S', 'QRS_END', 'T_INI', 'T', 'T_END']\n",
    "lstms_dict = {\n",
    "    'P_INI': None,\n",
    "    'P': None,\n",
    "    'P_END': None,\n",
    "    'QRS_INI': None, \n",
    "    'R': None, \n",
    "    'S': None, \n",
    "    'QRS_END': None, \n",
    "    'T_INI': None, \n",
    "    'T': None, \n",
    "    'T_END': None\n",
    "}"
   ]
  },
  {
   "cell_type": "code",
   "execution_count": 15,
   "id": "f9bcefb9",
   "metadata": {
    "collapsed": true
   },
   "outputs": [],
   "source": [
    "for marker in markers:\n",
    "    path = 'models/best_' + marker\n",
    "    model = LSTM1(num_classes=430, input_size=430, hidden_size=400, num_layers=3, seq_length=430)\n",
    "    model.load_state_dict(torch.load(path))\n",
    "\n",
    "    lstms_dict[marker] = model"
   ]
  },
  {
   "cell_type": "code",
   "execution_count": 16,
   "id": "b1e29c80",
   "metadata": {
    "collapsed": true
   },
   "outputs": [
    {
     "name": "stdout",
     "output_type": "stream",
     "text": [
      "For marker P_INI Acc: 85.50 Wrong 4.20\n"
     ]
    }
   ],
   "source": [
    "marker = 'P_INI'\n",
    "df, X, y = load_dataset(marker)\n",
    "X_train_tensors, y_train_tensors, X_val, y_val, X_test, y_test = get_tensors(X, y)\n",
    "predictions = lstms_dict[marker](X_test)\n",
    "correct = 0\n",
    "wrong = 0\n",
    "total = 0\n",
    "for i in range(predictions.shape[0]):\n",
    "    total += 1\n",
    "    pred = predictions[i].cpu()\n",
    "    pred = torch.topk(pred.flatten(), 1).indices.detach().numpy()[0]\n",
    "    real = get_position_from_markers_prediction(y_test[i].cpu())[0]\n",
    "    if pred >= real -3 and pred <= real + 3:\n",
    "        correct += 1\n",
    "    if pred >= real + 10 or pred <= real -10:\n",
    "        wrong += 1\n",
    "\n",
    "acc = (correct / total) * 100\n",
    "err = (wrong / total) * 100\n",
    "print('For marker %s Acc: %.2f Wrong %.2f' % (marker, acc, err))"
   ]
  },
  {
   "cell_type": "code",
   "execution_count": 28,
   "id": "93bb2915",
   "metadata": {
    "collapsed": true
   },
   "outputs": [
    {
     "name": "stdout",
     "output_type": "stream",
     "text": [
      "For marker P Acc: 93.85 Wrong 4.00\n"
     ]
    }
   ],
   "source": [
    "marker = 'P'\n",
    "df, X, y = load_dataset(marker)\n",
    "X_train_tensors, y_train_tensors, X_val, y_val, X_test, y_test = get_tensors(X, y)\n",
    "predictions = lstms_dict[marker](X_test)\n",
    "correct = 0\n",
    "wrong = 0\n",
    "total = 0\n",
    "for i in range(predictions.shape[0]):\n",
    "    total += 1\n",
    "    pred = predictions[i].cpu()\n",
    "    pred = torch.topk(pred.flatten(), 1).indices.detach().numpy()[0]\n",
    "    real = get_position_from_markers_prediction(y_test[i].cpu())[0]\n",
    "    if pred >= real -3 and pred <= real + 3:\n",
    "        correct += 1\n",
    "    if pred >= real + 10 or pred <= real -10:\n",
    "        wrong += 1\n",
    "\n",
    "acc = (correct / total) * 100\n",
    "err = (wrong / total) * 100\n",
    "print('For marker %s Acc: %.2f Wrong %.2f' % (marker, acc, err))"
   ]
  },
  {
   "cell_type": "code",
   "execution_count": 29,
   "id": "843da951",
   "metadata": {
    "collapsed": true
   },
   "outputs": [
    {
     "name": "stdout",
     "output_type": "stream",
     "text": [
      "For marker P_END Acc: 90.40 Wrong 2.85\n"
     ]
    }
   ],
   "source": [
    "marker = 'P_END'\n",
    "df, X, y = load_dataset(marker)\n",
    "X_train_tensors, y_train_tensors, X_val, y_val, X_test, y_test = get_tensors(X, y)\n",
    "predictions = lstms_dict[marker](X_test)\n",
    "correct = 0\n",
    "wrong = 0\n",
    "total = 0\n",
    "for i in range(predictions.shape[0]):\n",
    "    total += 1\n",
    "    pred = predictions[i].cpu()\n",
    "    pred = torch.topk(pred.flatten(), 1).indices.detach().numpy()[0]\n",
    "    real = get_position_from_markers_prediction(y_test[i].cpu())[0]\n",
    "    if pred >= real -3 and pred <= real + 3:\n",
    "        correct += 1\n",
    "    if pred >= real + 10 or pred <= real -10:\n",
    "        wrong += 1\n",
    "\n",
    "acc = (correct / total) * 100\n",
    "err = (wrong / total) * 100\n",
    "print('For marker %s Acc: %.2f Wrong %.2f' % (marker, acc, err))"
   ]
  },
  {
   "cell_type": "code",
   "execution_count": 30,
   "id": "6d9e524c",
   "metadata": {
    "collapsed": true
   },
   "outputs": [
    {
     "name": "stdout",
     "output_type": "stream",
     "text": [
      "For marker QRS_INI Acc: 90.85 Wrong 2.25\n"
     ]
    }
   ],
   "source": [
    "marker = 'QRS_INI'\n",
    "df, X, y = load_dataset(marker)\n",
    "X_train_tensors, y_train_tensors, X_val, y_val, X_test, y_test = get_tensors(X, y)\n",
    "predictions = lstms_dict[marker](X_test)\n",
    "correct = 0\n",
    "wrong = 0\n",
    "total = 0\n",
    "for i in range(predictions.shape[0]):\n",
    "    total += 1\n",
    "    pred = predictions[i].cpu()\n",
    "    pred = torch.topk(pred.flatten(), 1).indices.detach().numpy()[0]\n",
    "    real = get_position_from_markers_prediction(y_test[i].cpu())[0]\n",
    "    if pred >= real -3 and pred <= real + 3:\n",
    "        correct += 1\n",
    "    if pred >= real + 10 or pred <= real -10:\n",
    "        wrong += 1\n",
    "\n",
    "acc = (correct / total) * 100\n",
    "err = (wrong / total) * 100\n",
    "print('For marker %s Acc: %.2f Wrong %.2f' % (marker, acc, err))"
   ]
  },
  {
   "cell_type": "code",
   "execution_count": 31,
   "id": "3bfcdcdf",
   "metadata": {
    "collapsed": true
   },
   "outputs": [
    {
     "name": "stdout",
     "output_type": "stream",
     "text": [
      "For marker R Acc: 96.55 Wrong 1.85\n"
     ]
    }
   ],
   "source": [
    "marker = 'R'\n",
    "df, X, y = load_dataset(marker)\n",
    "X_train_tensors, y_train_tensors, X_val, y_val, X_test, y_test = get_tensors(X, y)\n",
    "predictions = lstms_dict[marker](X_test)\n",
    "correct = 0\n",
    "wrong = 0\n",
    "total = 0\n",
    "for i in range(predictions.shape[0]):\n",
    "    total += 1\n",
    "    pred = predictions[i].cpu()\n",
    "    pred = torch.topk(pred.flatten(), 1).indices.detach().numpy()[0]\n",
    "    real = get_position_from_markers_prediction(y_test[i].cpu())[0]\n",
    "    if pred >= real -3 and pred <= real + 3:\n",
    "        correct += 1\n",
    "    if pred >= real + 10 or pred <= real -10:\n",
    "        wrong += 1\n",
    "\n",
    "acc = (correct / total) * 100\n",
    "err = (wrong / total) * 100\n",
    "print('For marker %s Acc: %.2f Wrong %.2f' % (marker, acc, err))"
   ]
  },
  {
   "cell_type": "code",
   "execution_count": 32,
   "id": "523e1e7e",
   "metadata": {
    "collapsed": true
   },
   "outputs": [
    {
     "name": "stdout",
     "output_type": "stream",
     "text": [
      "For marker S Acc: 87.05 Wrong 4.75\n"
     ]
    }
   ],
   "source": [
    "marker = 'S'\n",
    "df, X, y = load_dataset(marker)\n",
    "X_train_tensors, y_train_tensors, X_val, y_val, X_test, y_test = get_tensors(X, y)\n",
    "predictions = lstms_dict[marker](X_test)\n",
    "correct = 0\n",
    "wrong = 0\n",
    "total = 0\n",
    "for i in range(predictions.shape[0]):\n",
    "    total += 1\n",
    "    pred = predictions[i].cpu()\n",
    "    pred = torch.topk(pred.flatten(), 1).indices.detach().numpy()[0]\n",
    "    real = get_position_from_markers_prediction(y_test[i].cpu())[0]\n",
    "    if pred >= real -3 and pred <= real + 3:\n",
    "        correct += 1\n",
    "    if pred >= real + 10 or pred <= real -10:\n",
    "        wrong += 1\n",
    "\n",
    "acc = (correct / total) * 100\n",
    "err = (wrong / total) * 100\n",
    "print('For marker %s Acc: %.2f Wrong %.2f' % (marker, acc, err))"
   ]
  },
  {
   "cell_type": "code",
   "execution_count": 36,
   "id": "c4f36540",
   "metadata": {
    "collapsed": true
   },
   "outputs": [
    {
     "name": "stdout",
     "output_type": "stream",
     "text": [
      "For marker QRS_END Acc: 81.25 Wrong 4.50\n"
     ]
    }
   ],
   "source": [
    "marker = 'QRS_END'\n",
    "df, X, y = load_dataset(marker)\n",
    "X_train_tensors, y_train_tensors, X_val, y_val, X_test, y_test = get_tensors(X, y)\n",
    "predictions = lstms_dict[marker](X_test)\n",
    "correct = 0\n",
    "wrong = 0\n",
    "total = 0\n",
    "for i in range(predictions.shape[0]):\n",
    "    total += 1\n",
    "    pred = predictions[i].cpu()\n",
    "    pred = torch.topk(pred.flatten(), 1).indices.detach().numpy()[0]\n",
    "    real = get_position_from_markers_prediction(y_test[i].cpu())[0]\n",
    "    if pred >= real -3 and pred <= real + 3:\n",
    "        correct += 1\n",
    "    if pred >= real + 10 or pred <= real -10:\n",
    "        wrong += 1\n",
    "\n",
    "acc = (correct / total) * 100\n",
    "err = (wrong / total) * 100\n",
    "print('For marker %s Acc: %.2f Wrong %.2f' % (marker, acc, err))"
   ]
  },
  {
   "cell_type": "code",
   "execution_count": 33,
   "id": "ca95120d",
   "metadata": {
    "collapsed": true
   },
   "outputs": [
    {
     "name": "stdout",
     "output_type": "stream",
     "text": [
      "For marker T_INI Acc: 34.20 Wrong 29.00\n"
     ]
    }
   ],
   "source": [
    "marker = 'T_INI'\n",
    "df, X, y = load_dataset(marker)\n",
    "X_train_tensors, y_train_tensors, X_val, y_val, X_test, y_test = get_tensors(X, y)\n",
    "predictions = lstms_dict[marker](X_test)\n",
    "correct = 0\n",
    "wrong = 0\n",
    "total = 0\n",
    "for i in range(predictions.shape[0]):\n",
    "    total += 1\n",
    "    pred = predictions[i].cpu()\n",
    "    pred = torch.topk(pred.flatten(), 1).indices.detach().numpy()[0]\n",
    "    real = get_position_from_markers_prediction(y_test[i].cpu())[0]\n",
    "    if pred >= real -3 and pred <= real + 3:\n",
    "        correct += 1\n",
    "    if pred >= real + 10 or pred <= real -10:\n",
    "        wrong += 1\n",
    "\n",
    "acc = (correct / total) * 100\n",
    "err = (wrong / total) * 100\n",
    "print('For marker %s Acc: %.2f Wrong %.2f' % (marker, acc, err))"
   ]
  },
  {
   "cell_type": "code",
   "execution_count": 34,
   "id": "e9c4e18d",
   "metadata": {
    "collapsed": true
   },
   "outputs": [
    {
     "name": "stdout",
     "output_type": "stream",
     "text": [
      "For marker T Acc: 66.95 Wrong 20.50\n"
     ]
    }
   ],
   "source": [
    "marker = 'T'\n",
    "df, X, y = load_dataset(marker)\n",
    "X_train_tensors, y_train_tensors, X_val, y_val, X_test, y_test = get_tensors(X, y)\n",
    "predictions = lstms_dict[marker](X_test)\n",
    "correct = 0\n",
    "wrong = 0\n",
    "total = 0\n",
    "for i in range(predictions.shape[0]):\n",
    "    total += 1\n",
    "    pred = predictions[i].cpu()\n",
    "    pred = torch.topk(pred.flatten(), 1).indices.detach().numpy()[0]\n",
    "    real = get_position_from_markers_prediction(y_test[i].cpu())[0]\n",
    "    if pred >= real -3 and pred <= real + 3:\n",
    "        correct += 1\n",
    "    if pred >= real + 10 or pred <= real -10:\n",
    "        wrong += 1\n",
    "\n",
    "acc = (correct / total) * 100\n",
    "err = (wrong / total) * 100\n",
    "print('For marker %s Acc: %.2f Wrong %.2f' % (marker, acc, err))"
   ]
  },
  {
   "cell_type": "code",
   "execution_count": 35,
   "id": "3cb8a337",
   "metadata": {
    "collapsed": true
   },
   "outputs": [
    {
     "name": "stdout",
     "output_type": "stream",
     "text": [
      "For marker T_END Acc: 55.65 Wrong 14.45\n"
     ]
    }
   ],
   "source": [
    "marker = 'T_END'\n",
    "df, X, y = load_dataset(marker)\n",
    "X_train_tensors, y_train_tensors, X_val, y_val, X_test, y_test = get_tensors(X, y)\n",
    "predictions = lstms_dict[marker](X_test)\n",
    "correct = 0\n",
    "wrong = 0\n",
    "total = 0\n",
    "for i in range(predictions.shape[0]):\n",
    "    total += 1\n",
    "    pred = predictions[i].cpu()\n",
    "    pred = torch.topk(pred.flatten(), 1).indices.detach().numpy()[0]\n",
    "    real = get_position_from_markers_prediction(y_test[i].cpu())[0]\n",
    "    if pred >= real -3 and pred <= real + 3:\n",
    "        correct += 1\n",
    "    if pred >= real + 10 or pred <= real -10:\n",
    "        wrong += 1\n",
    "\n",
    "acc = (correct / total) * 100\n",
    "err = (wrong / total) * 100\n",
    "print('For marker %s Acc: %.2f Wrong %.2f' % (marker, acc, err))"
   ]
  }
 ],
 "metadata": {
  "kernelspec": {
   "display_name": "Python 3 (ipykernel)",
   "language": "python",
   "name": "python3"
  },
  "language_info": {
   "codemirror_mode": {
    "name": "ipython",
    "version": 3
   },
   "file_extension": ".py",
   "mimetype": "text/x-python",
   "name": "python",
   "nbconvert_exporter": "python",
   "pygments_lexer": "ipython3",
   "version": "3.10.6"
  }
 },
 "nbformat": 4,
 "nbformat_minor": 5
}
