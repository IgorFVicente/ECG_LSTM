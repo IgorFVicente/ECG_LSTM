{
 "cells": [
  {
   "cell_type": "code",
   "execution_count": 2,
   "id": "32428b29",
   "metadata": {},
   "outputs": [],
   "source": [
    "import json\n",
    "import os"
   ]
  },
  {
   "cell_type": "code",
   "execution_count": 4,
   "id": "b8680e69",
   "metadata": {},
   "outputs": [
    {
     "name": "stdout",
     "output_type": "stream",
     "text": [
      "73565\n"
     ]
    }
   ],
   "source": [
    "directory = 'exams'\n",
    "features_tensor = None\n",
    "labels_tensor = None\n",
    "final_json = []\n",
    "number = 0\n",
    "\n",
    "# Une os dados de organizações e espécies diferentes em um mesmo .json\n",
    "\n",
    "for filename in os.scandir(directory):\n",
    "    if filename.is_file():\n",
    "        f = open(filename.path)\n",
    "        exams = json.load(f)\n",
    "        for exam in exams:\n",
    "            number += 1\n",
    "            final_json.append(exam)\n",
    "\n",
    "print(number)\n",
    "final_json = json.dumps(final_json)\n",
    "with open(\"final_json.json\", \"w\") as outfile:\n",
    "    outfile.write(final_json)"
   ]
  },
  {
   "cell_type": "code",
   "execution_count": null,
   "id": "aea297db",
   "metadata": {},
   "outputs": [],
   "source": []
  }
 ],
 "metadata": {
  "kernelspec": {
   "display_name": "Python 3 (ipykernel)",
   "language": "python",
   "name": "python3"
  },
  "language_info": {
   "codemirror_mode": {
    "name": "ipython",
    "version": 3
   },
   "file_extension": ".py",
   "mimetype": "text/x-python",
   "name": "python",
   "nbconvert_exporter": "python",
   "pygments_lexer": "ipython3",
   "version": "3.10.6"
  }
 },
 "nbformat": 4,
 "nbformat_minor": 5
}
